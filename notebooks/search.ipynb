{
 "cells": [
  {
   "cell_type": "code",
   "execution_count": 2,
   "id": "0b73fc70-c515-4978-8d9f-2ed1a2934099",
   "metadata": {},
   "outputs": [],
   "source": [
    "import pprint"
   ]
  },
  {
   "cell_type": "code",
   "execution_count": 3,
   "id": "2cb5154f-250d-473b-bcce-e1f851fcdd43",
   "metadata": {},
   "outputs": [],
   "source": [
    "from langchain_community.utilities import SearxSearchWrapper"
   ]
  },
  {
   "cell_type": "code",
   "execution_count": 13,
   "id": "f62a75c7-f179-4a67-9e12-68144a1f1014",
   "metadata": {},
   "outputs": [],
   "source": [
    "search = SearxSearchWrapper(searx_host=\"http://127.0.0.1:8888\", k=1)"
   ]
  },
  {
   "cell_type": "code",
   "execution_count": 14,
   "id": "2d8755c5-4e20-45bd-a118-8060356a8a8a",
   "metadata": {},
   "outputs": [],
   "source": [
    "# search = SearxSearchWrapper(searx_host=\"http://127.0.0.1:8888\")"
   ]
  },
  {
   "cell_type": "code",
   "execution_count": 15,
   "id": "cf9a6c55-c646-49d0-9c31-18eb7d329e4a",
   "metadata": {},
   "outputs": [
    {
     "data": {
      "text/plain": [
       "'View the complete regular season and preseason schedule for the New York Giants in 2024. See the dates, times, opponents, venues, and results of each game, as well as ticket information and highlights.'"
      ]
     },
     "execution_count": 15,
     "metadata": {},
     "output_type": "execute_result"
    }
   ],
   "source": [
    "search.run(\"where do the ny giants play this weekend?\", language=\"en-us\")"
   ]
  },
  {
   "cell_type": "code",
   "execution_count": 12,
   "id": "e7892bd3-6e45-4e4b-807d-662e9f9de918",
   "metadata": {},
   "outputs": [
    {
     "name": "stdout",
     "output_type": "stream",
     "text": [
      "[{'snippet': 'The New York Giants (2-5) will look to pick up their third road '\n",
      "             'win of the season against a Pittsburgh Steelers (5-2) franchise '\n",
      "             'that has a 21-game winning streak at home on Monday Night '\n",
      "             'Football. Players to watch in primetime Week 8 matchup Five '\n",
      "             'players to watch when the Giants face off against the Steelers '\n",
      "             'in Week 8 on Monday Night Football. ...',\n",
      "  'title': 'Giants Home | New York Giants – Giants.com',\n",
      "  'link': 'https://www.giants.com/',\n",
      "  'engines': ['google', 'duckduckgo'],\n",
      "  'category': 'general'},\n",
      " {'snippet': '5 days ago - With nearly 100 years of team history, the Giants '\n",
      "             'have used numerous uniforms and logos, while maintaining a '\n",
      "             \"consistent identity. The Giants' logos include several \"\n",
      "             'incarnations of a giant quarterback preparing to throw a '\n",
      "             'football, a lowercase \"ny\", and stylized versions of the team '\n",
      "             'nickname.',\n",
      "  'title': 'New York Giants - Wikipedia',\n",
      "  'link': 'https://en.wikipedia.org/wiki/New_York_Giants',\n",
      "  'engines': ['brave'],\n",
      "  'category': 'general'},\n",
      " {'snippet': '5 hours ago — The NY Giants have hit rock bottom following an '\n",
      "             'embarrassing home defeat to the Eagles. These four mistakes by '\n",
      "             'Brian Daboll have been costly for Big Blue.',\n",
      "  'title': '4 Brian Daboll mistakes that are ruining the NY Giants ...',\n",
      "  'link': 'https://gmenhq.com/4-brian-daboll-mistakes-are-ruining-ny-giants-season-01javzpcdx72',\n",
      "  'engines': ['google'],\n",
      "  'category': 'general'},\n",
      " {'snippet': '5 days ago - Mets chairman M. Donald Grant had represented '\n",
      "             'Payson on the Giants board, and as such had been the only board '\n",
      "             'member to vote against the Giants\\' move to California. The \"NY\" '\n",
      "             \"script on the Giants' caps and the orange trim on their \"\n",
      "             'uniforms, along with the blue background used by the Dodgers, '\n",
      "             '...',\n",
      "  'title': 'New York Giants (baseball) - Wikipedia',\n",
      "  'link': 'https://en.wikipedia.org/wiki/New_York_Giants_(baseball)',\n",
      "  'engines': ['brave'],\n",
      "  'category': 'general'},\n",
      " {'snippet': 'New York Giants. @Giants. YES!!!!!!!!!!!!!!!!!!!!!!! : CBS. '\n",
      "             'Embedded video. 0:20. 11:18 PM · Oct 6, 2024. ·. 598.7K. Views.',\n",
      "  'title': 'New York Giants',\n",
      "  'link': 'https://twitter.com/Giants/status/1843068344343089543',\n",
      "  'engines': ['google'],\n",
      "  'category': 'general'}]\n"
     ]
    }
   ],
   "source": [
    "# results = search.results(\n",
    "#     \"ny giants\",\n",
    "#     num_results=5,\n",
    "#     categories=\"us politics\",\n",
    "#     time_range=\"year\",\n",
    "# )\n",
    "# pprint.pp(results)"
   ]
  },
  {
   "cell_type": "code",
   "execution_count": 37,
   "id": "ce11682a-87d2-4527-b901-a733c17281a9",
   "metadata": {},
   "outputs": [
    {
     "name": "stdout",
     "output_type": "stream",
     "text": [
      "item 2 hours ago — Kamala Harris was headed to Texas to highlight abortion access and Donald Trump was set to appear on Joe Rogan's highly-popular podcast. Key Headlines. In 36 ...\n",
      "item Follow all the latest news, live updates, videos, verified reports and expert analysis of US Election 2024 from BBC journalists in the US and around the world.\n",
      "item Get the latest news and updates on U.S. elections, including primaries, special elections, and prediction markets. See live results, polls, and forecasts for the 2024 presidential race and other contests.\n",
      "item 5 hours ago — The court's obvious goal, aside from destabilizing a close election, is to tee up a Supreme Court decision that could wipe out all these laws in one fell swoop.\n",
      "item Trump-appointed appeals court judges say Mississippi’s post-election mail ballot receipt violates federal law ... Video ‘There’s a lot of anger’: CNN reporter describes the mood in the Washington Post newsroom 1:45\n"
     ]
    }
   ],
   "source": [
    "\n",
    "for item in results:\n",
    "    print(\"item\", item['snippet'])"
   ]
  },
  {
   "cell_type": "code",
   "execution_count": null,
   "id": "d73a2b85-7013-4845-b187-8487060e3f20",
   "metadata": {},
   "outputs": [],
   "source": []
  }
 ],
 "metadata": {
  "kernelspec": {
   "display_name": "Python 3 (ipykernel)",
   "language": "python",
   "name": "python3"
  },
  "language_info": {
   "codemirror_mode": {
    "name": "ipython",
    "version": 3
   },
   "file_extension": ".py",
   "mimetype": "text/x-python",
   "name": "python",
   "nbconvert_exporter": "python",
   "pygments_lexer": "ipython3",
   "version": "3.10.15"
  }
 },
 "nbformat": 4,
 "nbformat_minor": 5
}
